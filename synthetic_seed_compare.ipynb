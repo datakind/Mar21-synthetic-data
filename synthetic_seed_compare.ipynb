{
  "nbformat": 4,
  "nbformat_minor": 0,
  "metadata": {
    "colab": {
      "name": "dk_test.ipynb",
      "provenance": [],
      "collapsed_sections": [],
      "include_colab_link": true
    },
    "kernelspec": {
      "name": "python3",
      "display_name": "Python 3"
    }
  },
  "cells": [
    {
      "cell_type": "markdown",
      "metadata": {
        "id": "view-in-github",
        "colab_type": "text"
      },
      "source": [
        "<a href=\"https://colab.research.google.com/github/datakind/Mar21-synthetic-data/blob/main/synthetic_seed_compare.ipynb\" target=\"_parent\"><img src=\"https://colab.research.google.com/assets/colab-badge.svg\" alt=\"Open In Colab\"/></a>"
      ]
    },
    {
      "cell_type": "code",
      "metadata": {
        "id": "R6OZ7jjY0sG1"
      },
      "source": [
        "import pandas as pd\n",
        "import numpy as np\n",
        "import scipy as sp\n",
        "import matplotlib.pyplot as plt\n",
        "from pathlib import Path\n",
        "import os"
      ],
      "execution_count": null,
      "outputs": []
    },
    {
      "cell_type": "code",
      "metadata": {
        "id": "yH9cAj1lYqt3"
      },
      "source": [
        "\n",
        "true_data = pd.read_csv('latestdata.csv')\n",
        "synth_data = pd.read_csv('covid_xu_synth_data_v1_5000.csv')\n",
        "synth_data.head(n = 100)"
      ],
      "execution_count": null,
      "outputs": []
    },
    {
      "cell_type": "code",
      "metadata": {
        "colab": {
          "base_uri": "https://localhost:8080/",
          "height": 1000
        },
        "id": "apFFXf_weP7i",
        "outputId": "74e1c61f-8799-457f-a63b-3a0913d6681f"
      },
      "source": [
        "col_list = true_data.columns\n",
        "print('Total true data: ' + str(len(true_data)))\n",
        "print('Total synthetic data: ' + str(len(synth_data)))\n",
        "\n",
        "# possible terrible method\n",
        "\n",
        "for data in col_list[1:33]:\n",
        "  print('\\nThe column name is ' + data + ':')\n",
        "  col_data_synth = synth_data[data]\n",
        "\n",
        "  na_synth = col_data_synth.isna().sum()\n",
        "  col_data_true = true_data[data]\n",
        "  na_true = col_data_true.isna().sum()\n",
        "  synth_num = pd.to_numeric(col_data_synth, errors='coerce')\n",
        "  true_num = pd.to_numeric(col_data_true, errors='coerce')\n",
        "  print('number of unique entries in the synthetic data: '+ str(len(col_data_synth.unique()))   )\n",
        "  print('number of unique entries in the seed data: ' +str(len(col_data_true.unique()))   )\n",
        "\n",
        "  print('the missing synthetic data: ' + str(na_synth))\n",
        "  print('synthetic numeric column missing data: ' +str(synth_num.isna().sum()))\n",
        "  print('the missing seed data: ' + str(na_true))\n",
        "  print('seed numeric column missing data: ' +str(true_num.isna().sum()))\n",
        "  if (synth_num.isna().sum() != 5000):\n",
        "    # if the column is not all nans, then you have a numeric object\n",
        "    fig, axs = plt.subplots(2)\n",
        "    fig.suptitle(data)\n",
        "    axs[0].hist(synth_num)\n",
        "    axs[1].hist(true_num)\n",
        "  else:\n",
        "    print('cant histogram')\n",
        "  #print(col_data_synth.value_counts())\n",
        "  #print(col_data_true.value_counts())\n",
        "\n",
        "\n",
        "#set(synth_data) & set(true_data)"
      ],
      "execution_count": null,
      "outputs": [
        {
          "output_type": "stream",
          "text": [
            "Total true data: 256382\n",
            "Total synthetic data: 5000\n",
            "\n",
            "The column name is age:\n",
            "number of unique entries in the synthetic data: 32\n",
            "number of unique entries in the seed data: 226\n",
            "the missing synthetic data: 4944\n",
            "synthetic numeric column missing data: 4963\n",
            "the missing seed data: 234714\n",
            "seed numeric column missing data: 237208\n",
            "\n",
            "The column name is sex:\n",
            "number of unique entries in the synthetic data: 3\n",
            "number of unique entries in the seed data: 3\n",
            "the missing synthetic data: 4940\n",
            "synthetic numeric column missing data: 5000\n",
            "the missing seed data: 234574\n",
            "seed numeric column missing data: 256382\n",
            "cant histogram\n",
            "\n",
            "The column name is city:\n",
            "number of unique entries in the synthetic data: 159\n",
            "number of unique entries in the seed data: 2882\n",
            "the missing synthetic data: 3099\n",
            "synthetic numeric column missing data: 5000\n",
            "the missing seed data: 107182\n",
            "seed numeric column missing data: 256306\n",
            "cant histogram\n",
            "\n",
            "The column name is province:\n",
            "number of unique entries in the synthetic data: 64\n",
            "number of unique entries in the seed data: 611\n",
            "the missing synthetic data: 1093\n",
            "synthetic numeric column missing data: 5000\n",
            "the missing seed data: 55838\n",
            "seed numeric column missing data: 256382\n",
            "cant histogram\n",
            "\n",
            "The column name is country:\n",
            "number of unique entries in the synthetic data: 8\n",
            "number of unique entries in the seed data: 138\n",
            "the missing synthetic data: 1\n",
            "synthetic numeric column missing data: 5000\n",
            "the missing seed data: 79\n",
            "seed numeric column missing data: 256382\n",
            "cant histogram\n",
            "\n",
            "The column name is latitude:\n",
            "number of unique entries in the synthetic data: 101\n",
            "number of unique entries in the seed data: 3421\n",
            "the missing synthetic data: 0\n",
            "synthetic numeric column missing data: 0\n",
            "the missing seed data: 38\n",
            "seed numeric column missing data: 38\n",
            "\n",
            "The column name is longitude:\n",
            "number of unique entries in the synthetic data: 100\n",
            "number of unique entries in the seed data: 3419\n",
            "the missing synthetic data: 0\n",
            "synthetic numeric column missing data: 0\n",
            "the missing seed data: 38\n",
            "seed numeric column missing data: 38\n",
            "\n",
            "The column name is geo_resolution:\n",
            "number of unique entries in the synthetic data: 6\n",
            "number of unique entries in the seed data: 6\n",
            "the missing synthetic data: 1\n",
            "synthetic numeric column missing data: 5000\n",
            "the missing seed data: 39\n",
            "seed numeric column missing data: 256382\n",
            "cant histogram\n",
            "\n",
            "The column name is date_onset_symptoms:\n",
            "number of unique entries in the synthetic data: 1\n",
            "number of unique entries in the seed data: 167\n",
            "the missing synthetic data: 5000\n",
            "synthetic numeric column missing data: 5000\n",
            "the missing seed data: 251972\n",
            "seed numeric column missing data: 256382\n",
            "cant histogram\n",
            "\n",
            "The column name is date_admission_hospital:\n",
            "number of unique entries in the synthetic data: 2\n",
            "number of unique entries in the seed data: 84\n",
            "the missing synthetic data: 4999\n",
            "synthetic numeric column missing data: 5000\n",
            "the missing seed data: 255078\n",
            "seed numeric column missing data: 256382\n",
            "cant histogram\n",
            "\n",
            "The column name is date_confirmation:\n",
            "number of unique entries in the synthetic data: 30\n",
            "number of unique entries in the seed data: 171\n",
            "the missing synthetic data: 2\n",
            "synthetic numeric column missing data: 5000\n",
            "the missing seed data: 1069\n",
            "seed numeric column missing data: 256382\n",
            "cant histogram\n",
            "\n",
            "The column name is symptoms:\n",
            "number of unique entries in the synthetic data: 1\n",
            "number of unique entries in the seed data: 420\n",
            "the missing synthetic data: 5000\n",
            "synthetic numeric column missing data: 5000\n",
            "the missing seed data: 254721\n",
            "seed numeric column missing data: 256382\n",
            "cant histogram\n",
            "\n",
            "The column name is lives_in_Wuhan:\n",
            "number of unique entries in the synthetic data: 1\n",
            "number of unique entries in the seed data: 3\n",
            "the missing synthetic data: 5000\n",
            "synthetic numeric column missing data: 5000\n",
            "the missing seed data: 254859\n",
            "seed numeric column missing data: 256382\n",
            "cant histogram\n",
            "\n",
            "The column name is travel_history_dates:\n",
            "number of unique entries in the synthetic data: 1\n",
            "number of unique entries in the seed data: 193\n",
            "the missing synthetic data: 5000\n",
            "synthetic numeric column missing data: 5000\n",
            "the missing seed data: 255082\n",
            "seed numeric column missing data: 256382\n",
            "cant histogram\n",
            "\n",
            "The column name is travel_history_location:\n",
            "number of unique entries in the synthetic data: 6\n",
            "number of unique entries in the seed data: 494\n",
            "the missing synthetic data: 4994\n",
            "synthetic numeric column missing data: 5000\n",
            "the missing seed data: 253017\n",
            "seed numeric column missing data: 256382\n",
            "cant histogram\n",
            "\n",
            "The column name is reported_market_exposure:\n",
            "number of unique entries in the synthetic data: 1\n",
            "number of unique entries in the seed data: 5\n",
            "the missing synthetic data: 5000\n",
            "synthetic numeric column missing data: 5000\n",
            "the missing seed data: 255861\n",
            "seed numeric column missing data: 256382\n",
            "cant histogram\n",
            "\n",
            "The column name is additional_information:\n",
            "number of unique entries in the synthetic data: 13\n",
            "number of unique entries in the seed data: 17892\n",
            "the missing synthetic data: 4978\n",
            "synthetic numeric column missing data: 5000\n",
            "the missing seed data: 229140\n",
            "seed numeric column missing data: 256382\n",
            "cant histogram\n",
            "\n",
            "The column name is chronic_disease_binary:\n",
            "number of unique entries in the synthetic data: 2\n",
            "number of unique entries in the seed data: 3\n",
            "the missing synthetic data: 1\n",
            "synthetic numeric column missing data: 1\n",
            "the missing seed data: 1\n",
            "seed numeric column missing data: 1\n",
            "\n",
            "The column name is chronic_disease:\n",
            "number of unique entries in the synthetic data: 1\n",
            "number of unique entries in the seed data: 77\n",
            "the missing synthetic data: 5000\n",
            "synthetic numeric column missing data: 5000\n",
            "the missing seed data: 256244\n",
            "seed numeric column missing data: 256382\n",
            "cant histogram\n",
            "\n",
            "The column name is source:\n",
            "number of unique entries in the synthetic data: 221\n",
            "number of unique entries in the seed data: 4267\n",
            "the missing synthetic data: 7\n",
            "synthetic numeric column missing data: 5000\n",
            "the missing seed data: 12313\n",
            "seed numeric column missing data: 256382\n",
            "cant histogram\n",
            "\n",
            "The column name is sequence_available:\n",
            "number of unique entries in the synthetic data: 1\n",
            "number of unique entries in the seed data: 3\n",
            "the missing synthetic data: 5000\n",
            "synthetic numeric column missing data: 5000\n",
            "the missing seed data: 256378\n",
            "seed numeric column missing data: 256382\n",
            "cant histogram\n",
            "\n",
            "The column name is outcome:\n",
            "number of unique entries in the synthetic data: 2\n",
            "number of unique entries in the seed data: 34\n",
            "the missing synthetic data: 4997\n",
            "synthetic numeric column missing data: 5000\n",
            "the missing seed data: 143900\n",
            "seed numeric column missing data: 256382\n",
            "cant histogram\n",
            "\n",
            "The column name is date_death_or_discharge:\n",
            "number of unique entries in the synthetic data: 1\n",
            "number of unique entries in the seed data: 118\n",
            "the missing synthetic data: 5000\n",
            "synthetic numeric column missing data: 5000\n",
            "the missing seed data: 255808\n",
            "seed numeric column missing data: 256382\n",
            "cant histogram\n",
            "\n",
            "The column name is notes_for_discussion:\n",
            "number of unique entries in the synthetic data: 1\n",
            "number of unique entries in the seed data: 203\n",
            "the missing synthetic data: 5000\n",
            "synthetic numeric column missing data: 5000\n",
            "the missing seed data: 255788\n",
            "seed numeric column missing data: 256382\n",
            "cant histogram\n",
            "\n",
            "The column name is location:\n",
            "number of unique entries in the synthetic data: 4\n",
            "number of unique entries in the seed data: 343\n",
            "the missing synthetic data: 4981\n",
            "synthetic numeric column missing data: 5000\n",
            "the missing seed data: 249708\n",
            "seed numeric column missing data: 256382\n",
            "cant histogram\n",
            "\n",
            "The column name is admin3:\n",
            "number of unique entries in the synthetic data: 6\n",
            "number of unique entries in the seed data: 296\n",
            "the missing synthetic data: 4993\n",
            "synthetic numeric column missing data: 5000\n",
            "the missing seed data: 254469\n",
            "seed numeric column missing data: 256382\n",
            "cant histogram\n",
            "\n",
            "The column name is admin2:\n",
            "number of unique entries in the synthetic data: 161\n",
            "number of unique entries in the seed data: 987\n",
            "the missing synthetic data: 3651\n",
            "synthetic numeric column missing data: 5000\n",
            "the missing seed data: 216212\n",
            "seed numeric column missing data: 256382\n",
            "cant histogram\n",
            "\n",
            "The column name is admin1:\n",
            "number of unique entries in the synthetic data: 62\n",
            "number of unique entries in the seed data: 439\n",
            "the missing synthetic data: 1093\n",
            "synthetic numeric column missing data: 5000\n",
            "the missing seed data: 163255\n",
            "seed numeric column missing data: 256382\n",
            "cant histogram\n",
            "\n",
            "The column name is country_new:\n",
            "number of unique entries in the synthetic data: 8\n",
            "number of unique entries in the seed data: 135\n",
            "the missing synthetic data: 1\n",
            "synthetic numeric column missing data: 5000\n",
            "the missing seed data: 7574\n",
            "seed numeric column missing data: 256382\n",
            "cant histogram\n",
            "\n",
            "The column name is admin_id:\n",
            "number of unique entries in the synthetic data: 103\n",
            "number of unique entries in the seed data: 3508\n",
            "the missing synthetic data: 0\n",
            "synthetic numeric column missing data: 0\n",
            "the missing seed data: 39\n",
            "seed numeric column missing data: 39\n",
            "\n",
            "The column name is data_moderator_initials:\n",
            "number of unique entries in the synthetic data: 2\n",
            "number of unique entries in the seed data: 4\n",
            "the missing synthetic data: 4003\n",
            "synthetic numeric column missing data: 5000\n",
            "the missing seed data: 140761\n",
            "seed numeric column missing data: 256382\n",
            "cant histogram\n",
            "\n",
            "The column name is travel_history_binary:\n",
            "number of unique entries in the synthetic data: 1\n",
            "number of unique entries in the seed data: 3\n",
            "the missing synthetic data: 5000\n",
            "synthetic numeric column missing data: 5000\n",
            "the missing seed data: 65580\n",
            "seed numeric column missing data: 65580\n",
            "cant histogram\n"
          ],
          "name": "stdout"
        },
        {
          "output_type": "display_data",
          "data": {
            "image/png": "[encoded data removed]",
            "text/plain": [
              "<Figure size 432x288 with 2 Axes>"
            ]
          },
          "metadata": {
            "tags": [],
            "needs_background": "light"
          }
        },
        {
          "output_type": "display_data",
          "data": {
            "image/png": "[encoded data removed]",
            "text/plain": [
              "<Figure size 432x288 with 2 Axes>"
            ]
          },
          "metadata": {
            "tags": [],
            "needs_background": "light"
          }
        },
        {
          "output_type": "display_data",
          "data": {
            "image/png": "[encoded data removed]",
            "text/plain": [
              "<Figure size 432x288 with 2 Axes>"
            ]
          },
          "metadata": {
            "tags": [],
            "needs_background": "light"
          }
        },
        {
          "output_type": "display_data",
          "data": {
            "image/png": "[encoded data removed]",
            "text/plain": [
              "<Figure size 432x288 with 2 Axes>"
            ]
          },
          "metadata": {
            "tags": [],
            "needs_background": "light"
          }
        },
        {
          "output_type": "display_data",
          "data": {
            "image/png": "[encoded data removed]",
            "text/plain": [
              "<Figure size 432x288 with 2 Axes>"
            ]
          },
          "metadata": {
            "tags": [],
            "needs_background": "light"
          }
        }
      ]
    },
    {
      "cell_type": "code",
      "metadata": {
        "colab": {
          "base_uri": "https://localhost:8080/",
          "height": 333
        },
        "id": "L-Qlb8s5HdNK",
        "outputId": "05419852-a154-4944-abb3-e473fb040d27"
      },
      "source": [
        "## cross correlations between columns.\n",
        "\n",
        "#compare age and gender\n",
        "var1 = 'longitude'\n",
        "var2 = 'latitude'\n",
        "df2 = synth_data.loc[synth_data['country'] == 'South Korea']\n",
        "print(len(df2))\n",
        "\n",
        "s1_f = pd.to_numeric(df2[var1])\n",
        "s1_m = pd.to_numeric(df2[var2])\n",
        "\n",
        "countries = synth_data['country'].unique()\n",
        "print(countries)\n",
        "\n",
        "\n",
        "plt.scatter(s1_f,s1_m,marker=\"x\")\n",
        "plt.legend()\n",
        "plt.show()\n",
        "\n",
        "\n",
        "\n"
      ],
      "execution_count": null,
      "outputs": [
        {
          "output_type": "stream",
          "text": [
            "No handles with labels found to put in legend.\n"
          ],
          "name": "stderr"
        },
        {
          "output_type": "stream",
          "text": [
            "853\n",
            "['United States' 'China' 'Belgium' 'United Kingdom' 'Portugal'\n",
            " 'South Korea' 'Canada' nan]\n"
          ],
          "name": "stdout"
        },
        {
          "output_type": "display_data",
          "data": {
            "image/png": "[encoded data removed]",
            "text/plain": [
              "<Figure size 432x288 with 1 Axes>"
            ]
          },
          "metadata": {
            "tags": [],
            "needs_background": "light"
          }
        }
      ]
    }
  ]
}